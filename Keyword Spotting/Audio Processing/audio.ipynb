{
 "cells": [
  {
   "cell_type": "code",
   "execution_count": 4,
   "metadata": {},
   "outputs": [],
   "source": [
    "import pandas as pd"
   ]
  },
  {
   "cell_type": "code",
   "execution_count": 5,
   "metadata": {},
   "outputs": [
    {
     "name": "stdout",
     "output_type": "stream",
     "text": [
      "       0.000213623\n",
      "0        -0.000244\n",
      "1         0.000030\n",
      "2         0.000122\n",
      "3         0.000427\n",
      "4        -0.000092\n",
      "...            ...\n",
      "26778     0.000092\n",
      "26779    -0.000183\n",
      "26780     0.000061\n",
      "26781    -0.000183\n",
      "26782     0.000183\n",
      "\n",
      "[26783 rows x 1 columns]\n"
     ]
    }
   ],
   "source": [
    "df = pd.read_csv('dataMatthewHello.csv')\n",
    "print(df)"
   ]
  },
  {
   "cell_type": "code",
   "execution_count": 6,
   "metadata": {},
   "outputs": [],
   "source": [
    "sampling_rate = 2000"
   ]
  },
  {
   "cell_type": "code",
   "execution_count": null,
   "metadata": {},
   "outputs": [],
   "source": []
  }
 ],
 "metadata": {
  "kernelspec": {
   "display_name": "Python 3",
   "language": "python",
   "name": "python3"
  },
  "language_info": {
   "codemirror_mode": {
    "name": "ipython",
    "version": 3
   },
   "file_extension": ".py",
   "mimetype": "text/x-python",
   "name": "python",
   "nbconvert_exporter": "python",
   "pygments_lexer": "ipython3",
   "version": "3.7.4"
  }
 },
 "nbformat": 4,
 "nbformat_minor": 2
}
